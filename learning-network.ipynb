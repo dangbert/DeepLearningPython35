{
 "cells": [
  {
   "cell_type": "code",
   "execution_count": 25,
   "metadata": {},
   "outputs": [],
   "source": [
    "import numpy as np\n",
    "import copy\n",
    "import imp\n",
    "import network\n",
    "import mynet\n",
    "imp.reload(network)\n",
    "imp.reload(mynet)\n",
    "\n",
    "def printValues(listVals):\n",
    "   for i in range(len(listVals)):\n",
    "        print(listVals[i])\n",
    "        print()"
   ]
  },
  {
   "cell_type": "code",
   "execution_count": 26,
   "metadata": {},
   "outputs": [
    {
     "name": "stdout",
     "output_type": "stream",
     "text": [
      "original weights: (list of <class 'numpy.ndarray'>)\n",
      "<class 'numpy.ndarray'>\n",
      "[[ 0.94001524 -0.66635614 -0.86418007 -2.52057296]\n",
      " [ 1.47002361 -1.33013982  1.88398505  0.29164318]]\n",
      "\n",
      "[[-0.53239085 -1.76236319]\n",
      " [-1.71159403  1.63931039]\n",
      " [-0.28500115  0.42025313]]\n",
      "\n",
      "shape of net.weights[0]: (2, 4)\n",
      "\n",
      "new weights:\n",
      "[[0.1 0.2 0.3 0.4]\n",
      " [1.1 1.2 1.3 1.4]]\n",
      "\n",
      "[[ 0.5 -0.5]\n",
      " [ 0.6 -1. ]\n",
      " [ 0.7 -2. ]]\n",
      "\n",
      "new biases: (list of <class 'numpy.ndarray'>)\n",
      "<class 'numpy.ndarray'>\n",
      "[[1.]\n",
      " [1.]]\n",
      "\n",
      "[[2.]\n",
      " [2.]\n",
      " [2.]]\n",
      "\n"
     ]
    }
   ],
   "source": [
    "sizes = [4,2,3]\n",
    "net = network.Network(sizes)\n",
    "\n",
    "print(\"original weights: (list of \" + str(type(net.weights[0])) + \")\")\n",
    "print(type(net.weights[0]))\n",
    "printValues(net.weights)\n",
    "print(\"shape of net.weights[0]: \" + str(net.weights[0].shape))\n",
    "\n",
    "# manually set weights for connections between layers 0 and 1\n",
    "net.weights[0]=np.array([[0.1, 0.2, 0.3, 0.4], [1.1,1.2,1.3,1.4]])\n",
    "# same for layers 1 and 2\n",
    "net.weights[1]=np.array([[0.5, -0.5], [0.6, -1], [0.7, -2]])\n",
    "\n",
    "# manually set biases as well\n",
    "net.biases[0] = np.array([[1.0], [1.0]])\n",
    "net.biases[1] = np.array([[2.0], [2.0], [2.0]])\n",
    "\n",
    "print(\"\\nnew weights:\")\n",
    "printValues(net.weights)\n",
    "\n",
    "print(\"new biases: (list of \" + str(type(net.biases[0])) + \")\")\n",
    "print(type(net.biases[0]))\n",
    "printValues(net.biases)\n",
    "\n",
    "# make a copy of this network using my class instead\n",
    "mine = mynet.Network(sizes)\n",
    "mine.weights = copy.deepcopy(net.weights)\n",
    "mine.biases = copy.deepcopy(net.biases)\n",
    "mine.sizes = copy.deepcopy(net.sizes)"
   ]
  },
  {
   "cell_type": "code",
   "execution_count": 27,
   "metadata": {},
   "outputs": [
    {
     "name": "stdout",
     "output_type": "stream",
     "text": [
      "[array([[0.],\n",
      "       [0.],\n",
      "       [0.],\n",
      "       [0.]]), array([[ 4.],\n",
      "       [14.]]), array([[1.99100731],\n",
      "       [1.58920911],\n",
      "       [0.68741132]])]\n",
      "[array([[1],\n",
      "       [2],\n",
      "       [3],\n",
      "       [4]]), array([[0.98201379],\n",
      "       [0.99999917]]), array([[0.87984967],\n",
      "       [0.8305048 ],\n",
      "       [0.66539081]])]\n"
     ]
    }
   ],
   "source": [
    "x = np.array([[1], [2], [3], [4]])\n",
    "zs, activations = mine.feedforward(x)\n",
    "print(zs)\n",
    "print(activations)"
   ]
  },
  {
   "cell_type": "code",
   "execution_count": 28,
   "metadata": {
    "scrolled": false
   },
   "outputs": [
    {
     "name": "stdout",
     "output_type": "stream",
     "text": [
      "testing forward pass evaluation...\n",
      "testing backprop function...\n",
      "testing updateMiniBatch function...\n",
      "\n",
      "final outputs on training data:\n",
      "[[0.32729287]\n",
      " [0.32836246]\n",
      " [0.36324349]]\n",
      "[[0.03554692]\n",
      " [0.03272956]\n",
      " [0.92773674]]\n",
      "\n",
      "finished all tests!\n"
     ]
    }
   ],
   "source": [
    "# unit test mine.py vs network.py\n",
    "\n",
    "# training data lists\n",
    "X = []\n",
    "Y = []\n",
    "X.append(np.array([[1], [2], [3], [4]]))\n",
    "Y.append(np.array([[0.0], [1.0], [0.0]]))\n",
    "\n",
    "X.append(np.array([[-1], [-4], [-99], [0.3]]))\n",
    "Y.append(np.array([[0.333], [0.333], [0.333]]))\n",
    "\n",
    "X.append(np.array([[7.0], [4], [9], [6]]))\n",
    "Y.append(np.array([[0], [0], [1.0]]))\n",
    "\n",
    "# test feedforward function\n",
    "print(\"testing forward pass evaluation...\")\n",
    "zs, A = mine.feedforward(X[0])\n",
    "assert(np.allclose(mine.sigmoid(zs[-1]), A[-1]))\n",
    "assert(np.allclose(mine.getOutput(X[0]), A[-1]))\n",
    "assert(np.allclose(net.feedforward(X[0]), mine.getOutput(X[0])))\n",
    "\n",
    "print(\"testing backprop function...\")\n",
    "nabla_b, nabla_w = net.backprop(X[0], Y[0])\n",
    "mine_b, mine_w = mine.backprop(X[0], Y[0])\n",
    "# https://stackoverflow.com/a/30773738\n",
    "assert(all([np.allclose(nb, mb) for nb, mb in zip(nabla_b, mine_b)]))\n",
    "assert(all([np.allclose(nw, mw) for nw, mw in zip(nabla_w, mine_w)]))\n",
    "\n",
    "print(\"testing updateMiniBatch function...\")\n",
    "# test with a batch size of 1\n",
    "index = 0\n",
    "net.update_mini_batch([(X[index], Y[index])], 0.25)\n",
    "mine.updateMiniBatch([(X[index], Y[index])], 0.25)\n",
    "assert(all([np.allclose(b, mb) for b, mb in zip(net.weights, mine.weights)]))\n",
    "assert(all([np.allclose(w, mw) for w, mw in zip(net.biases, mine.biases)]))\n",
    "\n",
    "X = X[1:3]\n",
    "Y = Y[1:3]\n",
    "\n",
    "batch = [(x,y) for x,y in zip(X,Y)]\n",
    "iterations = 1000\n",
    "for i in range(iterations):\n",
    "    index = i % len(X)\n",
    "    net.update_mini_batch(batch, 0.25)\n",
    "    mine.updateMiniBatch(batch, 0.25)\n",
    "    \n",
    "# test weights and biases were updated to same values\n",
    "assert(all([np.allclose(b, mb) for b, mb in zip(net.weights, mine.weights)]))\n",
    "assert(all([np.allclose(w, mw) for w, mw in zip(net.biases, mine.biases)]))\n",
    "\n",
    "print(\"\\nfinal outputs on training data:\")\n",
    "# now test:\n",
    "for x,y in zip(X, Y):\n",
    "    assert(np.allclose(net.feedforward(x), mine.getOutput(x)))\n",
    "    print(mine.getOutput(x))\n",
    "    \n",
    "print(\"\\nfinished all tests!\")"
   ]
  }
 ],
 "metadata": {
  "kernelspec": {
   "display_name": "Python 3",
   "language": "python",
   "name": "python3"
  },
  "language_info": {
   "codemirror_mode": {
    "name": "ipython",
    "version": 3
   },
   "file_extension": ".py",
   "mimetype": "text/x-python",
   "name": "python",
   "nbconvert_exporter": "python",
   "pygments_lexer": "ipython3",
   "version": "3.7.3"
  }
 },
 "nbformat": 4,
 "nbformat_minor": 2
}
