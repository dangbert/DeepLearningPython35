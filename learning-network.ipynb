{
 "cells": [
  {
   "cell_type": "code",
   "execution_count": 29,
   "metadata": {},
   "outputs": [],
   "source": [
    "import network\n",
    "import numpy as np"
   ]
  },
  {
   "cell_type": "code",
   "execution_count": 60,
   "metadata": {},
   "outputs": [],
   "source": [
    "sizes = [4,2,3]\n",
    "net = network.Network(sizes)\n",
    "\n",
    "def printValues(listVals):\n",
    "   for i in range(len(listVals)):\n",
    "        print(listVals[i])\n",
    "        print() "
   ]
  },
  {
   "cell_type": "code",
   "execution_count": 98,
   "metadata": {},
   "outputs": [
    {
     "name": "stdout",
     "output_type": "stream",
     "text": [
      "original weights: (list of <class 'numpy.ndarray'>)\n",
      "<class 'numpy.ndarray'>\n",
      "[[0.47723733 0.47416187 0.13750699 0.34584685]\n",
      " [0.39184332 0.96266928 0.10221322 0.94164865]]\n",
      "\n",
      "[[0.60291293 0.94244211]\n",
      " [0.99866926 0.93833237]\n",
      " [0.94256869 0.15791888]]\n",
      "\n",
      "shape of net.weights[0]: (2, 4)\n",
      "\n",
      "new weights:\n",
      "[[0.1 0.2 0.3 0.4]\n",
      " [1.1 1.2 1.3 1.4]]\n",
      "\n",
      "[[ 0.5 -0.5]\n",
      " [ 0.6 -1. ]\n",
      " [ 0.7 -2. ]]\n",
      "\n",
      "new biases: (list of <class 'numpy.ndarray'>)\n",
      "<class 'numpy.ndarray'>\n",
      "[[1]\n",
      " [1]]\n",
      "\n",
      "[[2]\n",
      " [2]\n",
      " [2]]\n",
      "\n"
     ]
    }
   ],
   "source": [
    "sizes = [4,2,3]\n",
    "net = network.Network(sizes)\n",
    "\n",
    "print(\"original weights: (list of \" + str(type(net.weights[0])) + \")\")\n",
    "print(type(net.weights[0]))\n",
    "printValues(net.weights)\n",
    "print(\"shape of net.weights[0]: \" + str(net.weights[0].shape))\n",
    "\n",
    "\n",
    "# manually set weights for connections between layers 0 and 1\n",
    "net.weights[0]=np.array([[0.1, 0.2, 0.3, 0.4], [1.1,1.2,1.3,1.4]])\n",
    "# same for layers 1 and 2\n",
    "net.weights[1]=np.array([[0.5, -0.5], [0.6, -1], [0.7, -2]])\n",
    "\n",
    "# manually set biases as well\n",
    "net.biases[0] = np.array([[1], [1]])\n",
    "net.biases[1] = np.array([[2], [2], [2]])\n",
    "\n",
    "print(\"\\nnew weights:\")\n",
    "printValues(net.weights)\n",
    "\n",
    "print(\"new biases: (list of \" + str(type(net.biases[0])) + \")\")\n",
    "print(type(net.biases[0]))\n",
    "printValues(net.biases)"
   ]
  },
  {
   "cell_type": "code",
   "execution_count": 134,
   "metadata": {},
   "outputs": [
    {
     "name": "stdout",
     "output_type": "stream",
     "text": [
      "expected output = [[0.87984967]\n",
      " [0.8305048 ]\n",
      " [0.66539081]]\n",
      "new cur = [0.9820137900379085, 0.9999991684719722]\n",
      "new cur = [0.8798496653691561, 0.8305048006614295, 0.665390813927719]\n"
     ]
    }
   ],
   "source": [
    "# manually calculate output for given input\n",
    "cur = np.array([[1], [2], [3], [4]]) # input\n",
    "\n",
    "print(\"expected output = \" + str(net.feedforward(cur)))\n",
    "\n",
    "for layer in range(net.num_layers-1):\n",
    "    tmp = []\n",
    "    for node in range(len(net.weights[layer])):\n",
    "        w = net.weights[layer][node]\n",
    "        b = net.biases[layer][node]\n",
    "        x = np.dot(w, cur) + b\n",
    "        x = network.sigmoid(x)\n",
    "        tmp.append(x[0])\n",
    "    cur = tmp\n",
    "    print(\"new cur = \" + str(cur))\n",
    "                \n",
    "#for b, w in zip(self.biases, self.weights):                                                                                                                      \n",
    "#a = sigmoid(np.dot(w, a)+b) "
   ]
  }
 ],
 "metadata": {
  "kernelspec": {
   "display_name": "Python 3",
   "language": "python",
   "name": "python3"
  },
  "language_info": {
   "codemirror_mode": {
    "name": "ipython",
    "version": 3
   },
   "file_extension": ".py",
   "mimetype": "text/x-python",
   "name": "python",
   "nbconvert_exporter": "python",
   "pygments_lexer": "ipython3",
   "version": "3.7.3"
  }
 },
 "nbformat": 4,
 "nbformat_minor": 2
}
